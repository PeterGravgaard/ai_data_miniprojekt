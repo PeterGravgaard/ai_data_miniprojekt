{
 "cells": [
  {
   "cell_type": "markdown",
   "id": "42538c18",
   "metadata": {},
   "source": [
    "Importér Nødvendige Biblioteker"
   ]
  },
  {
   "cell_type": "code",
   "execution_count": 11,
   "id": "71ca9cd0",
   "metadata": {},
   "outputs": [],
   "source": [
    "import pandas as pd\n",
    "import numpy as np\n",
    "import matplotlib.pyplot as plt\n",
    "import seaborn as sns\n",
    "from sklearn.impute import SimpleImputer, KNNImputer\n",
    "from sklearn.model_selection import train_test_split\n",
    "from sklearn.neighbors import KNeighborsClassifier # Eksempel classifier\n",
    "from sklearn.metrics import accuracy_score\n",
    "import sqlite3"
   ]
  },
  {
   "cell_type": "markdown",
   "id": "9e350d4d",
   "metadata": {},
   "source": [
    "Indlæs Data: Brug pandas til at indlæse datasættet i en DataFrame."
   ]
  },
  {
   "cell_type": "code",
   "execution_count": 12,
   "id": "da7f7693",
   "metadata": {},
   "outputs": [],
   "source": [
    "# Erstat 'sti/til/din/data.csv' med den faktiske sti\n",
    "df = pd.read_csv('horse.csv')"
   ]
  },
  {
   "cell_type": "markdown",
   "id": "096533a2",
   "metadata": {},
   "source": [
    "Indledende Dataudforskning: Få et overblik over dataene:"
   ]
  },
  {
   "cell_type": "code",
   "execution_count": 13,
   "id": "a4cbb194",
   "metadata": {},
   "outputs": [
    {
     "data": {
      "text/html": [
       "<div>\n",
       "<style scoped>\n",
       "    .dataframe tbody tr th:only-of-type {\n",
       "        vertical-align: middle;\n",
       "    }\n",
       "\n",
       "    .dataframe tbody tr th {\n",
       "        vertical-align: top;\n",
       "    }\n",
       "\n",
       "    .dataframe thead th {\n",
       "        text-align: right;\n",
       "    }\n",
       "</style>\n",
       "<table border=\"1\" class=\"dataframe\">\n",
       "  <thead>\n",
       "    <tr style=\"text-align: right;\">\n",
       "      <th></th>\n",
       "      <th>surgery</th>\n",
       "      <th>age</th>\n",
       "      <th>hospital_number</th>\n",
       "      <th>rectal_temp</th>\n",
       "      <th>pulse</th>\n",
       "      <th>respiratory_rate</th>\n",
       "      <th>temp_of_extremities</th>\n",
       "      <th>peripheral_pulse</th>\n",
       "      <th>mucous_membrane</th>\n",
       "      <th>capillary_refill_time</th>\n",
       "      <th>...</th>\n",
       "      <th>packed_cell_volume</th>\n",
       "      <th>total_protein</th>\n",
       "      <th>abdomo_appearance</th>\n",
       "      <th>abdomo_protein</th>\n",
       "      <th>outcome</th>\n",
       "      <th>surgical_lesion</th>\n",
       "      <th>lesion_1</th>\n",
       "      <th>lesion_2</th>\n",
       "      <th>lesion_3</th>\n",
       "      <th>cp_data</th>\n",
       "    </tr>\n",
       "  </thead>\n",
       "  <tbody>\n",
       "    <tr>\n",
       "      <th>0</th>\n",
       "      <td>no</td>\n",
       "      <td>adult</td>\n",
       "      <td>530101</td>\n",
       "      <td>38.5</td>\n",
       "      <td>66.0</td>\n",
       "      <td>28.0</td>\n",
       "      <td>cool</td>\n",
       "      <td>reduced</td>\n",
       "      <td>NaN</td>\n",
       "      <td>more_3_sec</td>\n",
       "      <td>...</td>\n",
       "      <td>45.0</td>\n",
       "      <td>8.4</td>\n",
       "      <td>NaN</td>\n",
       "      <td>NaN</td>\n",
       "      <td>died</td>\n",
       "      <td>no</td>\n",
       "      <td>11300</td>\n",
       "      <td>0</td>\n",
       "      <td>0</td>\n",
       "      <td>no</td>\n",
       "    </tr>\n",
       "    <tr>\n",
       "      <th>1</th>\n",
       "      <td>yes</td>\n",
       "      <td>adult</td>\n",
       "      <td>534817</td>\n",
       "      <td>39.2</td>\n",
       "      <td>88.0</td>\n",
       "      <td>20.0</td>\n",
       "      <td>NaN</td>\n",
       "      <td>NaN</td>\n",
       "      <td>pale_cyanotic</td>\n",
       "      <td>less_3_sec</td>\n",
       "      <td>...</td>\n",
       "      <td>50.0</td>\n",
       "      <td>85.0</td>\n",
       "      <td>cloudy</td>\n",
       "      <td>2.0</td>\n",
       "      <td>euthanized</td>\n",
       "      <td>no</td>\n",
       "      <td>2208</td>\n",
       "      <td>0</td>\n",
       "      <td>0</td>\n",
       "      <td>no</td>\n",
       "    </tr>\n",
       "    <tr>\n",
       "      <th>2</th>\n",
       "      <td>no</td>\n",
       "      <td>adult</td>\n",
       "      <td>530334</td>\n",
       "      <td>38.3</td>\n",
       "      <td>40.0</td>\n",
       "      <td>24.0</td>\n",
       "      <td>normal</td>\n",
       "      <td>normal</td>\n",
       "      <td>pale_pink</td>\n",
       "      <td>less_3_sec</td>\n",
       "      <td>...</td>\n",
       "      <td>33.0</td>\n",
       "      <td>6.7</td>\n",
       "      <td>NaN</td>\n",
       "      <td>NaN</td>\n",
       "      <td>lived</td>\n",
       "      <td>no</td>\n",
       "      <td>0</td>\n",
       "      <td>0</td>\n",
       "      <td>0</td>\n",
       "      <td>yes</td>\n",
       "    </tr>\n",
       "    <tr>\n",
       "      <th>3</th>\n",
       "      <td>yes</td>\n",
       "      <td>young</td>\n",
       "      <td>5290409</td>\n",
       "      <td>39.1</td>\n",
       "      <td>164.0</td>\n",
       "      <td>84.0</td>\n",
       "      <td>cold</td>\n",
       "      <td>normal</td>\n",
       "      <td>dark_cyanotic</td>\n",
       "      <td>more_3_sec</td>\n",
       "      <td>...</td>\n",
       "      <td>48.0</td>\n",
       "      <td>7.2</td>\n",
       "      <td>serosanguious</td>\n",
       "      <td>5.3</td>\n",
       "      <td>died</td>\n",
       "      <td>yes</td>\n",
       "      <td>2208</td>\n",
       "      <td>0</td>\n",
       "      <td>0</td>\n",
       "      <td>yes</td>\n",
       "    </tr>\n",
       "    <tr>\n",
       "      <th>4</th>\n",
       "      <td>no</td>\n",
       "      <td>adult</td>\n",
       "      <td>530255</td>\n",
       "      <td>37.3</td>\n",
       "      <td>104.0</td>\n",
       "      <td>35.0</td>\n",
       "      <td>NaN</td>\n",
       "      <td>NaN</td>\n",
       "      <td>dark_cyanotic</td>\n",
       "      <td>more_3_sec</td>\n",
       "      <td>...</td>\n",
       "      <td>74.0</td>\n",
       "      <td>7.4</td>\n",
       "      <td>NaN</td>\n",
       "      <td>NaN</td>\n",
       "      <td>died</td>\n",
       "      <td>no</td>\n",
       "      <td>4300</td>\n",
       "      <td>0</td>\n",
       "      <td>0</td>\n",
       "      <td>no</td>\n",
       "    </tr>\n",
       "  </tbody>\n",
       "</table>\n",
       "<p>5 rows × 28 columns</p>\n",
       "</div>"
      ],
      "text/plain": [
       "  surgery    age  hospital_number  rectal_temp  pulse  respiratory_rate  \\\n",
       "0      no  adult           530101         38.5   66.0              28.0   \n",
       "1     yes  adult           534817         39.2   88.0              20.0   \n",
       "2      no  adult           530334         38.3   40.0              24.0   \n",
       "3     yes  young          5290409         39.1  164.0              84.0   \n",
       "4      no  adult           530255         37.3  104.0              35.0   \n",
       "\n",
       "  temp_of_extremities peripheral_pulse mucous_membrane capillary_refill_time  \\\n",
       "0                cool          reduced             NaN            more_3_sec   \n",
       "1                 NaN              NaN   pale_cyanotic            less_3_sec   \n",
       "2              normal           normal       pale_pink            less_3_sec   \n",
       "3                cold           normal   dark_cyanotic            more_3_sec   \n",
       "4                 NaN              NaN   dark_cyanotic            more_3_sec   \n",
       "\n",
       "   ... packed_cell_volume total_protein abdomo_appearance abdomo_protein  \\\n",
       "0  ...               45.0           8.4               NaN            NaN   \n",
       "1  ...               50.0          85.0            cloudy            2.0   \n",
       "2  ...               33.0           6.7               NaN            NaN   \n",
       "3  ...               48.0           7.2     serosanguious            5.3   \n",
       "4  ...               74.0           7.4               NaN            NaN   \n",
       "\n",
       "      outcome  surgical_lesion lesion_1 lesion_2  lesion_3  cp_data  \n",
       "0        died               no    11300        0         0       no  \n",
       "1  euthanized               no     2208        0         0       no  \n",
       "2       lived               no        0        0         0      yes  \n",
       "3        died              yes     2208        0         0      yes  \n",
       "4        died               no     4300        0         0       no  \n",
       "\n",
       "[5 rows x 28 columns]"
      ]
     },
     "execution_count": 13,
     "metadata": {},
     "output_type": "execute_result"
    }
   ],
   "source": [
    "df.head()"
   ]
  },
  {
   "cell_type": "markdown",
   "id": "0f0282be",
   "metadata": {},
   "source": [
    "Få information om kolonner, datatyper og ikke-null værdier:"
   ]
  },
  {
   "cell_type": "code",
   "execution_count": 14,
   "id": "35a4ca10",
   "metadata": {},
   "outputs": [
    {
     "name": "stdout",
     "output_type": "stream",
     "text": [
      "<class 'pandas.core.frame.DataFrame'>\n",
      "RangeIndex: 299 entries, 0 to 298\n",
      "Data columns (total 28 columns):\n",
      " #   Column                 Non-Null Count  Dtype  \n",
      "---  ------                 --------------  -----  \n",
      " 0   surgery                299 non-null    object \n",
      " 1   age                    299 non-null    object \n",
      " 2   hospital_number        299 non-null    int64  \n",
      " 3   rectal_temp            239 non-null    float64\n",
      " 4   pulse                  275 non-null    float64\n",
      " 5   respiratory_rate       241 non-null    float64\n",
      " 6   temp_of_extremities    243 non-null    object \n",
      " 7   peripheral_pulse       230 non-null    object \n",
      " 8   mucous_membrane        252 non-null    object \n",
      " 9   capillary_refill_time  267 non-null    object \n",
      " 10  pain                   244 non-null    object \n",
      " 11  peristalsis            255 non-null    object \n",
      " 12  abdominal_distention   243 non-null    object \n",
      " 13  nasogastric_tube       195 non-null    object \n",
      " 14  nasogastric_reflux     193 non-null    object \n",
      " 15  nasogastric_reflux_ph  53 non-null     float64\n",
      " 16  rectal_exam_feces      197 non-null    object \n",
      " 17  abdomen                181 non-null    object \n",
      " 18  packed_cell_volume     270 non-null    float64\n",
      " 19  total_protein          266 non-null    float64\n",
      " 20  abdomo_appearance      134 non-null    object \n",
      " 21  abdomo_protein         101 non-null    float64\n",
      " 22  outcome                299 non-null    object \n",
      " 23  surgical_lesion        299 non-null    object \n",
      " 24  lesion_1               299 non-null    int64  \n",
      " 25  lesion_2               299 non-null    int64  \n",
      " 26  lesion_3               299 non-null    int64  \n",
      " 27  cp_data                299 non-null    object \n",
      "dtypes: float64(7), int64(4), object(17)\n",
      "memory usage: 65.5+ KB\n"
     ]
    }
   ],
   "source": [
    "df.info()"
   ]
  },
  {
   "cell_type": "markdown",
   "id": "86f416f9",
   "metadata": {},
   "source": [
    "Få deskriptiv statistik:"
   ]
  },
  {
   "cell_type": "code",
   "execution_count": 15,
   "id": "b390bcf6",
   "metadata": {},
   "outputs": [
    {
     "data": {
      "text/html": [
       "<div>\n",
       "<style scoped>\n",
       "    .dataframe tbody tr th:only-of-type {\n",
       "        vertical-align: middle;\n",
       "    }\n",
       "\n",
       "    .dataframe tbody tr th {\n",
       "        vertical-align: top;\n",
       "    }\n",
       "\n",
       "    .dataframe thead th {\n",
       "        text-align: right;\n",
       "    }\n",
       "</style>\n",
       "<table border=\"1\" class=\"dataframe\">\n",
       "  <thead>\n",
       "    <tr style=\"text-align: right;\">\n",
       "      <th></th>\n",
       "      <th>hospital_number</th>\n",
       "      <th>rectal_temp</th>\n",
       "      <th>pulse</th>\n",
       "      <th>respiratory_rate</th>\n",
       "      <th>nasogastric_reflux_ph</th>\n",
       "      <th>packed_cell_volume</th>\n",
       "      <th>total_protein</th>\n",
       "      <th>abdomo_protein</th>\n",
       "      <th>lesion_1</th>\n",
       "      <th>lesion_2</th>\n",
       "      <th>lesion_3</th>\n",
       "    </tr>\n",
       "  </thead>\n",
       "  <tbody>\n",
       "    <tr>\n",
       "      <th>count</th>\n",
       "      <td>2.990000e+02</td>\n",
       "      <td>239.000000</td>\n",
       "      <td>275.000000</td>\n",
       "      <td>241.000000</td>\n",
       "      <td>53.000000</td>\n",
       "      <td>270.000000</td>\n",
       "      <td>266.000000</td>\n",
       "      <td>101.000000</td>\n",
       "      <td>299.000000</td>\n",
       "      <td>299.000000</td>\n",
       "      <td>299.000000</td>\n",
       "    </tr>\n",
       "    <tr>\n",
       "      <th>mean</th>\n",
       "      <td>1.087733e+06</td>\n",
       "      <td>38.168619</td>\n",
       "      <td>72.000000</td>\n",
       "      <td>30.460581</td>\n",
       "      <td>4.707547</td>\n",
       "      <td>46.307407</td>\n",
       "      <td>24.274436</td>\n",
       "      <td>3.039604</td>\n",
       "      <td>3659.709030</td>\n",
       "      <td>90.528428</td>\n",
       "      <td>7.387960</td>\n",
       "    </tr>\n",
       "    <tr>\n",
       "      <th>std</th>\n",
       "      <td>1.532032e+06</td>\n",
       "      <td>0.733744</td>\n",
       "      <td>28.646219</td>\n",
       "      <td>17.666102</td>\n",
       "      <td>1.982311</td>\n",
       "      <td>10.436743</td>\n",
       "      <td>27.364194</td>\n",
       "      <td>1.967947</td>\n",
       "      <td>5408.472421</td>\n",
       "      <td>650.637139</td>\n",
       "      <td>127.749768</td>\n",
       "    </tr>\n",
       "    <tr>\n",
       "      <th>min</th>\n",
       "      <td>5.184760e+05</td>\n",
       "      <td>35.400000</td>\n",
       "      <td>30.000000</td>\n",
       "      <td>8.000000</td>\n",
       "      <td>1.000000</td>\n",
       "      <td>23.000000</td>\n",
       "      <td>3.300000</td>\n",
       "      <td>0.100000</td>\n",
       "      <td>0.000000</td>\n",
       "      <td>0.000000</td>\n",
       "      <td>0.000000</td>\n",
       "    </tr>\n",
       "    <tr>\n",
       "      <th>25%</th>\n",
       "      <td>5.289040e+05</td>\n",
       "      <td>37.800000</td>\n",
       "      <td>48.000000</td>\n",
       "      <td>18.000000</td>\n",
       "      <td>3.000000</td>\n",
       "      <td>38.000000</td>\n",
       "      <td>6.500000</td>\n",
       "      <td>2.000000</td>\n",
       "      <td>2111.500000</td>\n",
       "      <td>0.000000</td>\n",
       "      <td>0.000000</td>\n",
       "    </tr>\n",
       "    <tr>\n",
       "      <th>50%</th>\n",
       "      <td>5.303010e+05</td>\n",
       "      <td>38.200000</td>\n",
       "      <td>64.000000</td>\n",
       "      <td>25.000000</td>\n",
       "      <td>5.000000</td>\n",
       "      <td>45.000000</td>\n",
       "      <td>7.500000</td>\n",
       "      <td>2.300000</td>\n",
       "      <td>2322.000000</td>\n",
       "      <td>0.000000</td>\n",
       "      <td>0.000000</td>\n",
       "    </tr>\n",
       "    <tr>\n",
       "      <th>75%</th>\n",
       "      <td>5.347360e+05</td>\n",
       "      <td>38.500000</td>\n",
       "      <td>88.000000</td>\n",
       "      <td>36.000000</td>\n",
       "      <td>6.500000</td>\n",
       "      <td>52.000000</td>\n",
       "      <td>56.750000</td>\n",
       "      <td>3.900000</td>\n",
       "      <td>3209.000000</td>\n",
       "      <td>0.000000</td>\n",
       "      <td>0.000000</td>\n",
       "    </tr>\n",
       "    <tr>\n",
       "      <th>max</th>\n",
       "      <td>5.305629e+06</td>\n",
       "      <td>40.800000</td>\n",
       "      <td>184.000000</td>\n",
       "      <td>96.000000</td>\n",
       "      <td>7.500000</td>\n",
       "      <td>75.000000</td>\n",
       "      <td>89.000000</td>\n",
       "      <td>10.100000</td>\n",
       "      <td>41110.000000</td>\n",
       "      <td>7111.000000</td>\n",
       "      <td>2209.000000</td>\n",
       "    </tr>\n",
       "  </tbody>\n",
       "</table>\n",
       "</div>"
      ],
      "text/plain": [
       "       hospital_number  rectal_temp       pulse  respiratory_rate  \\\n",
       "count     2.990000e+02   239.000000  275.000000        241.000000   \n",
       "mean      1.087733e+06    38.168619   72.000000         30.460581   \n",
       "std       1.532032e+06     0.733744   28.646219         17.666102   \n",
       "min       5.184760e+05    35.400000   30.000000          8.000000   \n",
       "25%       5.289040e+05    37.800000   48.000000         18.000000   \n",
       "50%       5.303010e+05    38.200000   64.000000         25.000000   \n",
       "75%       5.347360e+05    38.500000   88.000000         36.000000   \n",
       "max       5.305629e+06    40.800000  184.000000         96.000000   \n",
       "\n",
       "       nasogastric_reflux_ph  packed_cell_volume  total_protein  \\\n",
       "count              53.000000          270.000000     266.000000   \n",
       "mean                4.707547           46.307407      24.274436   \n",
       "std                 1.982311           10.436743      27.364194   \n",
       "min                 1.000000           23.000000       3.300000   \n",
       "25%                 3.000000           38.000000       6.500000   \n",
       "50%                 5.000000           45.000000       7.500000   \n",
       "75%                 6.500000           52.000000      56.750000   \n",
       "max                 7.500000           75.000000      89.000000   \n",
       "\n",
       "       abdomo_protein      lesion_1     lesion_2     lesion_3  \n",
       "count      101.000000    299.000000   299.000000   299.000000  \n",
       "mean         3.039604   3659.709030    90.528428     7.387960  \n",
       "std          1.967947   5408.472421   650.637139   127.749768  \n",
       "min          0.100000      0.000000     0.000000     0.000000  \n",
       "25%          2.000000   2111.500000     0.000000     0.000000  \n",
       "50%          2.300000   2322.000000     0.000000     0.000000  \n",
       "75%          3.900000   3209.000000     0.000000     0.000000  \n",
       "max         10.100000  41110.000000  7111.000000  2209.000000  "
      ]
     },
     "execution_count": 15,
     "metadata": {},
     "output_type": "execute_result"
    }
   ],
   "source": [
    "df.describe()"
   ]
  },
  {
   "cell_type": "markdown",
   "id": "54d3d347",
   "metadata": {},
   "source": [
    "Tæl manglende værdier pr. kolonne"
   ]
  },
  {
   "cell_type": "code",
   "execution_count": 16,
   "id": "735fcba3",
   "metadata": {},
   "outputs": [
    {
     "data": {
      "text/plain": [
       "surgery                    0\n",
       "age                        0\n",
       "hospital_number            0\n",
       "rectal_temp               60\n",
       "pulse                     24\n",
       "respiratory_rate          58\n",
       "temp_of_extremities       56\n",
       "peripheral_pulse          69\n",
       "mucous_membrane           47\n",
       "capillary_refill_time     32\n",
       "pain                      55\n",
       "peristalsis               44\n",
       "abdominal_distention      56\n",
       "nasogastric_tube         104\n",
       "nasogastric_reflux       106\n",
       "nasogastric_reflux_ph    246\n",
       "rectal_exam_feces        102\n",
       "abdomen                  118\n",
       "packed_cell_volume        29\n",
       "total_protein             33\n",
       "abdomo_appearance        165\n",
       "abdomo_protein           198\n",
       "outcome                    0\n",
       "surgical_lesion            0\n",
       "lesion_1                   0\n",
       "lesion_2                   0\n",
       "lesion_3                   0\n",
       "cp_data                    0\n",
       "dtype: int64"
      ]
     },
     "execution_count": 16,
     "metadata": {},
     "output_type": "execute_result"
    }
   ],
   "source": [
    "df.isnull().sum()"
   ]
  },
  {
   "cell_type": "markdown",
   "id": "69e44106",
   "metadata": {},
   "source": [
    "Visualisér Manglende Data:"
   ]
  },
  {
   "cell_type": "code",
   "execution_count": 17,
   "id": "d40120a1",
   "metadata": {},
   "outputs": [
    {
     "data": {
      "image/png": "[encoded data removed]",
      "text/plain": [
       "<Figure size 1200x600 with 1 Axes>"
      ]
     },
     "metadata": {},
     "output_type": "display_data"
    },
    {
     "name": "stdout",
     "output_type": "stream",
     "text": [
      "\n",
      "Procentdel manglende værdier pr. kolonne:\n",
      "nasogastric_reflux_ph    82.274247\n",
      "abdomo_protein           66.220736\n",
      "abdomo_appearance        55.183946\n",
      "abdomen                  39.464883\n",
      "nasogastric_reflux       35.451505\n",
      "nasogastric_tube         34.782609\n",
      "rectal_exam_feces        34.113712\n",
      "peripheral_pulse         23.076923\n",
      "rectal_temp              20.066890\n",
      "respiratory_rate         19.397993\n",
      "temp_of_extremities      18.729097\n",
      "abdominal_distention     18.729097\n",
      "pain                     18.394649\n",
      "mucous_membrane          15.719064\n",
      "peristalsis              14.715719\n",
      "total_protein            11.036789\n",
      "capillary_refill_time    10.702341\n",
      "packed_cell_volume        9.698997\n",
      "pulse                     8.026756\n",
      "lesion_2                  0.000000\n",
      "surgical_lesion           0.000000\n",
      "lesion_3                  0.000000\n",
      "lesion_1                  0.000000\n",
      "surgery                   0.000000\n",
      "outcome                   0.000000\n",
      "age                       0.000000\n",
      "hospital_number           0.000000\n",
      "cp_data                   0.000000\n",
      "dtype: float64\n"
     ]
    }
   ],
   "source": [
    "# Visualiser manglende værdier\n",
    "plt.figure(figsize=(12, 6))\n",
    "sns.heatmap(df.isnull(), cbar=False, cmap='viridis')\n",
    "plt.title('Oversigt over Manglende Værdier pr. Observation')\n",
    "plt.show()\n",
    "\n",
    "# Beregn procentdelen af manglende værdier pr. kolonne\n",
    "missing_percentage = (df.isnull().sum() / len(df)) * 100\n",
    "print(\"\\nProcentdel manglende værdier pr. kolonne:\")\n",
    "print(missing_percentage.sort_values(ascending=False))"
   ]
  },
  {
   "cell_type": "markdown",
   "id": "34033aeb",
   "metadata": {},
   "source": [
    "Adskil Numeriske og Kategoriske Kolonner med Manglende Værdier"
   ]
  },
  {
   "cell_type": "code",
   "execution_count": 18,
   "id": "6d5207af",
   "metadata": {},
   "outputs": [
    {
     "name": "stdout",
     "output_type": "stream",
     "text": [
      "Numeriske kolonner med manglende værdier:\n",
      "['rectal_temp', 'pulse', 'respiratory_rate', 'nasogastric_reflux_ph', 'packed_cell_volume', 'total_protein', 'abdomo_protein']\n",
      "\n",
      "Kategoriske kolonner med manglende værdier:\n",
      "['temp_of_extremities', 'peripheral_pulse', 'mucous_membrane', 'capillary_refill_time', 'pain', 'peristalsis', 'abdominal_distention', 'nasogastric_tube', 'nasogastric_reflux', 'rectal_exam_feces', 'abdomen', 'abdomo_appearance']\n",
      "\n",
      "Kolonner med meget høj mangelprocent (>50%):\n",
      "['nasogastric_reflux_ph', 'abdomo_protein', 'abdomo_appearance']\n"
     ]
    }
   ],
   "source": [
    "# Identificer kolonner med manglende værdier\n",
    "cols_with_missing = df.columns[df.isnull().any()].tolist()\n",
    "\n",
    "# Adskil baseret på dtype (juster evt. hvis nogle 'object' reelt er numeriske eller omvendt)\n",
    "numeric_cols_missing = df[cols_with_missing].select_dtypes(include=np.number).columns.tolist()\n",
    "categorical_cols_missing = df[cols_with_missing].select_dtypes(include='object').columns.tolist()\n",
    "\n",
    "# Print resultatet for at verificere\n",
    "print(\"Numeriske kolonner med manglende værdier:\")\n",
    "print(numeric_cols_missing)\n",
    "print(\"\\nKategoriske kolonner med manglende værdier:\")\n",
    "print(categorical_cols_missing)\n",
    "\n",
    "# Særskilt håndtering af de meget problematiske kolonner\n",
    "high_missing_cols = ['nasogastric_reflux_ph', 'abdomo_protein', 'abdomo_appearance']\n",
    "print(\"\\nKolonner med meget høj mangelprocent (>50%):\")\n",
    "print(high_missing_cols)"
   ]
  },
  {
   "cell_type": "markdown",
   "id": "7a089e0a",
   "metadata": {},
   "source": [
    "Definer Imputationsstrategi"
   ]
  },
  {
   "cell_type": "code",
   "execution_count": 19,
   "id": "ec283491",
   "metadata": {},
   "outputs": [],
   "source": [
    "# Strategi:\n",
    "# - Numerisk -> Median\n",
    "# - Kategorisk -> Modus (most_frequent)\n",
    "\n",
    "# Vi har allerede identificeret kolonnerne i:\n",
    "# numeric_cols_missing\n",
    "# categorical_cols_missing"
   ]
  },
  {
   "cell_type": "markdown",
   "id": "fc08b289",
   "metadata": {},
   "source": [
    "Opret Imputer Objekter"
   ]
  },
  {
   "cell_type": "code",
   "execution_count": 20,
   "id": "6629421a",
   "metadata": {},
   "outputs": [],
   "source": [
    "from sklearn.impute import SimpleImputer\n",
    "\n",
    "# Opret imputer for numeriske kolonner (strategi='median')\n",
    "median_imputer = SimpleImputer(strategy='median')\n",
    "\n",
    "# Opret imputer for kategoriske kolonner (strategi='most_frequent')\n",
    "mode_imputer = SimpleImputer(strategy='most_frequent')"
   ]
  },
  {
   "cell_type": "markdown",
   "id": "a5864f29",
   "metadata": {},
   "source": [
    "Opret Kopi af DataFrame"
   ]
  },
  {
   "cell_type": "code",
   "execution_count": 21,
   "id": "95be7bda",
   "metadata": {},
   "outputs": [
    {
     "name": "stdout",
     "output_type": "stream",
     "text": [
      "Kopi 'df_imputed' oprettet.\n"
     ]
    }
   ],
   "source": [
    "# Opret en kopi\n",
    "df_imputed = df.copy()\n",
    "\n",
    "print(\"Kopi 'df_imputed' oprettet.\")"
   ]
  },
  {
   "cell_type": "markdown",
   "id": "209e9a2b",
   "metadata": {},
   "source": [
    "Imputer Numeriske Kolonner"
   ]
  },
  {
   "cell_type": "code",
   "execution_count": 22,
   "id": "d175137b",
   "metadata": {},
   "outputs": [
    {
     "name": "stdout",
     "output_type": "stream",
     "text": [
      "Imputerer 7 numeriske kolonner med median:\n",
      "['rectal_temp', 'pulse', 'respiratory_rate', 'nasogastric_reflux_ph', 'packed_cell_volume', 'total_protein', 'abdomo_protein']\n",
      "\n",
      "Numerisk imputering færdig.\n"
     ]
    }
   ],
   "source": [
    "# Tjek om der er numeriske kolonner at imputere\n",
    "if numeric_cols_missing:\n",
    "    print(f\"Imputerer {len(numeric_cols_missing)} numeriske kolonner med median:\")\n",
    "    print(numeric_cols_missing)\n",
    "\n",
    "    # Anvend imputer: Lærer medianen og transformerer data\n",
    "    df_imputed[numeric_cols_missing] = median_imputer.fit_transform(df_imputed[numeric_cols_missing])\n",
    "\n",
    "    print(\"\\nNumerisk imputering færdig.\")\n",
    "else:\n",
    "    print(\"Ingen numeriske kolonner med manglende værdier fundet.\")"
   ]
  },
  {
   "cell_type": "markdown",
   "id": "cda430dc",
   "metadata": {},
   "source": [
    "Imputer Kategoriske Kolonner"
   ]
  },
  {
   "cell_type": "code",
   "execution_count": 23,
   "id": "0ad19aa5",
   "metadata": {},
   "outputs": [
    {
     "name": "stdout",
     "output_type": "stream",
     "text": [
      "Imputerer 12 kategoriske kolonner med modus:\n",
      "['temp_of_extremities', 'peripheral_pulse', 'mucous_membrane', 'capillary_refill_time', 'pain', 'peristalsis', 'abdominal_distention', 'nasogastric_tube', 'nasogastric_reflux', 'rectal_exam_feces', 'abdomen', 'abdomo_appearance']\n",
      "\n",
      "Kategorisk imputering færdig.\n"
     ]
    }
   ],
   "source": [
    "# Tjek om der er kategoriske kolonner at imputere\n",
    "if categorical_cols_missing:\n",
    "    print(f\"Imputerer {len(categorical_cols_missing)} kategoriske kolonner med modus:\")\n",
    "    print(categorical_cols_missing)\n",
    "\n",
    "    # Anvend imputer: Lærer modus og transformerer data\n",
    "    imputed_categorical_data = mode_imputer.fit_transform(df_imputed[categorical_cols_missing])\n",
    "\n",
    "    # Konverter tilbage til DataFrame for at bevare struktur\n",
    "    df_imputed_categorical = pd.DataFrame(imputed_categorical_data, \n",
    "                                          columns=categorical_cols_missing, \n",
    "                                          index=df_imputed.index)\n",
    "\n",
    "    # Opdater det kopierede dataframe med de imputerede kategoriske data\n",
    "    df_imputed[categorical_cols_missing] = df_imputed_categorical\n",
    "\n",
    "    print(\"\\nKategorisk imputering færdig.\")\n",
    "else:\n",
    "    print(\"Ingen kategoriske kolonner med manglende værdier fundet.\")"
   ]
  },
  {
   "cell_type": "markdown",
   "id": "42c4ddfc",
   "metadata": {},
   "source": [
    "Verificer Imputering"
   ]
  },
  {
   "cell_type": "code",
   "execution_count": 24,
   "id": "3a9b4730",
   "metadata": {},
   "outputs": [
    {
     "name": "stdout",
     "output_type": "stream",
     "text": [
      "Antal manglende værdier efter simpel imputering:\n",
      "Series([], dtype: int64)\n",
      "\n",
      "Total antal manglende værdier: 0\n"
     ]
    }
   ],
   "source": [
    "# Tjek antallet af manglende værdier i det imputerede DataFrame\n",
    "print(\"Antal manglende værdier efter simpel imputering:\")\n",
    "missing_after_imputation = df_imputed.isnull().sum()\n",
    "print(missing_after_imputation[missing_after_imputation > 0]) # Vis kun kolonner der STADIG har manglende værdier (bør være tom)\n",
    "\n",
    "print(\"\\nTotal antal manglende værdier:\", df_imputed.isnull().sum().sum()) "
   ]
  },
  {
   "cell_type": "markdown",
   "id": "a19eb36b",
   "metadata": {},
   "source": [
    "Inspicer Imputeret Data (Valgfrit men anbefalet)"
   ]
  },
  {
   "cell_type": "code",
   "execution_count": 25,
   "id": "e2646794",
   "metadata": {},
   "outputs": [
    {
     "name": "stdout",
     "output_type": "stream",
     "text": [
      "\n",
      "Info om df_imputed efter imputering:\n",
      "<class 'pandas.core.frame.DataFrame'>\n",
      "RangeIndex: 299 entries, 0 to 298\n",
      "Data columns (total 28 columns):\n",
      " #   Column                 Non-Null Count  Dtype  \n",
      "---  ------                 --------------  -----  \n",
      " 0   surgery                299 non-null    object \n",
      " 1   age                    299 non-null    object \n",
      " 2   hospital_number        299 non-null    int64  \n",
      " 3   rectal_temp            299 non-null    float64\n",
      " 4   pulse                  299 non-null    float64\n",
      " 5   respiratory_rate       299 non-null    float64\n",
      " 6   temp_of_extremities    299 non-null    object \n",
      " 7   peripheral_pulse       299 non-null    object \n",
      " 8   mucous_membrane        299 non-null    object \n",
      " 9   capillary_refill_time  299 non-null    object \n",
      " 10  pain                   299 non-null    object \n",
      " 11  peristalsis            299 non-null    object \n",
      " 12  abdominal_distention   299 non-null    object \n",
      " 13  nasogastric_tube       299 non-null    object \n",
      " 14  nasogastric_reflux     299 non-null    object \n",
      " 15  nasogastric_reflux_ph  299 non-null    float64\n",
      " 16  rectal_exam_feces      299 non-null    object \n",
      " 17  abdomen                299 non-null    object \n",
      " 18  packed_cell_volume     299 non-null    float64\n",
      " 19  total_protein          299 non-null    float64\n",
      " 20  abdomo_appearance      299 non-null    object \n",
      " 21  abdomo_protein         299 non-null    float64\n",
      " 22  outcome                299 non-null    object \n",
      " 23  surgical_lesion        299 non-null    object \n",
      " 24  lesion_1               299 non-null    int64  \n",
      " 25  lesion_2               299 non-null    int64  \n",
      " 26  lesion_3               299 non-null    int64  \n",
      " 27  cp_data                299 non-null    object \n",
      "dtypes: float64(7), int64(4), object(17)\n",
      "memory usage: 65.5+ KB\n",
      "\n",
      "Head af df_imputed:\n",
      "  surgery    age  hospital_number  rectal_temp  pulse  respiratory_rate  \\\n",
      "0      no  adult           530101         38.5   66.0              28.0   \n",
      "1     yes  adult           534817         39.2   88.0              20.0   \n",
      "2      no  adult           530334         38.3   40.0              24.0   \n",
      "3     yes  young          5290409         39.1  164.0              84.0   \n",
      "4      no  adult           530255         37.3  104.0              35.0   \n",
      "\n",
      "  temp_of_extremities peripheral_pulse mucous_membrane capillary_refill_time  \\\n",
      "0                cool          reduced     normal_pink            more_3_sec   \n",
      "1                cool           normal   pale_cyanotic            less_3_sec   \n",
      "2              normal           normal       pale_pink            less_3_sec   \n",
      "3                cold           normal   dark_cyanotic            more_3_sec   \n",
      "4                cool           normal   dark_cyanotic            more_3_sec   \n",
      "\n",
      "   ... packed_cell_volume total_protein abdomo_appearance abdomo_protein  \\\n",
      "0  ...               45.0           8.4            cloudy            2.3   \n",
      "1  ...               50.0          85.0            cloudy            2.0   \n",
      "2  ...               33.0           6.7            cloudy            2.3   \n",
      "3  ...               48.0           7.2     serosanguious            5.3   \n",
      "4  ...               74.0           7.4            cloudy            2.3   \n",
      "\n",
      "      outcome  surgical_lesion lesion_1 lesion_2  lesion_3  cp_data  \n",
      "0        died               no    11300        0         0       no  \n",
      "1  euthanized               no     2208        0         0       no  \n",
      "2       lived               no        0        0         0      yes  \n",
      "3        died              yes     2208        0         0      yes  \n",
      "4        died               no     4300        0         0       no  \n",
      "\n",
      "[5 rows x 28 columns]\n"
     ]
    }
   ],
   "source": [
    "print(\"\\nInfo om df_imputed efter imputering:\")\n",
    "df_imputed.info()\n",
    "\n",
    "print(\"\\nHead af df_imputed:\")\n",
    "print(df_imputed.head())"
   ]
  }
 ],
 "metadata": {
  "kernelspec": {
   "display_name": "base",
   "language": "python",
   "name": "python3"
  },
  "language_info": {
   "codemirror_mode": {
    "name": "ipython",
    "version": 3
   },
   "file_extension": ".py",
   "mimetype": "text/x-python",
   "name": "python",
   "nbconvert_exporter": "python",
   "pygments_lexer": "ipython3",
   "version": "3.12.3"
  }
 },
 "nbformat": 4,
 "nbformat_minor": 5
}
